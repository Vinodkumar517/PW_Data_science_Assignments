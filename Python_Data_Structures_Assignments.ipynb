{
  "nbformat": 4,
  "nbformat_minor": 0,
  "metadata": {
    "colab": {
      "provenance": []
    },
    "kernelspec": {
      "name": "python3",
      "display_name": "Python 3"
    },
    "language_info": {
      "name": "python"
    }
  },
  "cells": [
    {
      "cell_type": "markdown",
      "source": [
        "# **Python Data Structures - Questions & Answers**\n",
        "\n",
        "# 1. What are data structures, and why are they important?\n",
        "# - Organized ways to store and manage data efficiently.\n",
        "\n",
        "# 2. Explain the difference between mutable and immutable data types with examples.\n",
        "# - Mutable: Can be changed (Lists, Dictionaries).\n",
        "my_list = [1, 2, 3]\n",
        "my_list.append(4)\n",
        "print(my_list)  # Output: [1, 2, 3, 4]\n",
        "\n",
        "# - Immutable: Cannot be changed (Strings, Tuples).\n",
        "my_tuple = (1, 2, 3)\n",
        "# my_tuple[0] = 4  # Error\n",
        "\n",
        "# 3. What are the main differences between lists and tuples in Python?\n",
        "# - Lists are mutable, tuples are immutable.\n",
        "\n",
        "# 4. Describe how dictionaries store data.\n",
        "# - Uses key-value pairs for quick lookups.\n",
        "student = {\"name\": \"Vinod\", \"age\": 25}\n",
        "print(student[\"name\"])  # Output: Vinod\n",
        "\n",
        "# 5. Why might you use a set instead of a list in Python?\n",
        "# - Sets store unique elements and allow fast lookups.\n",
        "numbers = {1, 2, 3, 3, 4}\n",
        "print(numbers)  # Output: {1, 2, 3, 4}\n",
        "\n",
        "# 6. What is a string in Python, and how is it different from a list?\n",
        "# - Strings are immutable, while lists are mutable.\n",
        "\n",
        "# 7. How do tuples ensure data integrity in Python?\n",
        "# - They cannot be modified after creation.\n",
        "\n",
        "# 8. What is a hash table, and how does it relate to dictionaries in Python?\n",
        "# - A hash table maps keys to values efficiently.\n",
        "\n",
        "# 9. Can lists contain different data types in Python?\n",
        "# - Yes, a list can store multiple data types.\n",
        "mixed_list = [1, \"hello\", 3.14, True]\n",
        "\n",
        "# 10. Explain why strings are immutable in Python.\n",
        "# - For security, efficiency, and hashability.\n",
        "\n",
        "# 11. What advantages do dictionaries offer over lists?\n",
        "# - Faster lookups and key-based data retrieval.\n",
        "\n",
        "# 12. Describe a scenario where using a tuple would be preferable over a list.\n",
        "# - When storing constant values like configurations.\n",
        "\n",
        "# 13. How do sets handle duplicate values in Python?\n",
        "# - Sets automatically remove duplicate values.\n",
        "s = {1, 2, 2, 3}\n",
        "print(s)  # Output: {1, 2, 3}\n",
        "\n",
        "# 14. How does the \"in\" keyword work differently for lists and dictionaries?\n",
        "# - In lists, it checks for values. In dictionaries, it checks for keys.\n",
        "d = {\"a\": 1, \"b\": 2}\n",
        "print(\"a\" in d)  # True (checks keys)\n",
        "print(1 in d)  # False (does not check values)\n",
        "\n",
        "# 15. Can you modify the elements of a tuple?\n",
        "# - No, tuples are immutable.\n",
        "\n",
        "# 16. What is a nested dictionary, and give an example of its use case?\n",
        "# - A dictionary inside another dictionary, used for structured data storage.\n",
        "students = {\"Alice\": {\"age\": 20, \"grade\": \"A\"}, \"Bob\": {\"age\": 22, \"grade\": \"B\"}}\n",
        "print(students[\"Alice\"][\"age\"])  # Output: 20\n",
        "\n",
        "# 17. Describe the time complexity of accessing elements in a dictionary.\n",
        "# - O(1) on average due to hash-based lookups.\n",
        "\n",
        "# 18. In what situations are lists preferred over dictionaries?\n",
        "# - When order matters and indexing is required.\n",
        "\n",
        "# 19. Why are dictionaries considered unordered, and how does that affect data retrieval?\n",
        "# - Before Python 3.7, they did not maintain insertion order.\n",
        "\n",
        "# 20. Explain the difference between a list and a dictionary in terms of data retrieval.\n",
        "# - Lists use indexing, dictionaries use key lookups.\n",
        "my_list = [10, 20, 30]\n",
        "print(my_list[1])  # Output: 20\n",
        "\n",
        "my_dict = {\"a\": 10, \"b\": 20}\n",
        "print(my_dict[\"b\"])  # Output: 20\n",
        "\n"
      ],
      "metadata": {
        "id": "E9EBpLoOPZlU"
      }
    },
    {
      "cell_type": "code",
      "source": [
        "# 1. Write a code to create a string with your name and print it\n",
        "name = \"Vinod\"\n",
        "print(name)"
      ],
      "metadata": {
        "colab": {
          "base_uri": "https://localhost:8080/"
        },
        "id": "Ku8ILLhbUagF",
        "outputId": "017faab4-0a11-4cb2-a8b1-e53a579c5bcc"
      },
      "execution_count": 4,
      "outputs": [
        {
          "output_type": "stream",
          "name": "stdout",
          "text": [
            "Vinod\n"
          ]
        }
      ]
    },
    {
      "cell_type": "code",
      "source": [
        "# 2. Write a code to find the length of the string \"Hello World\"\n",
        "string1 = \"Hello World\"\n",
        "print(len(string1))"
      ],
      "metadata": {
        "colab": {
          "base_uri": "https://localhost:8080/"
        },
        "id": "oHUmt-8yW-Bu",
        "outputId": "a6e06fcb-16a7-489a-ac25-d2492e8fe832"
      },
      "execution_count": 5,
      "outputs": [
        {
          "output_type": "stream",
          "name": "stdout",
          "text": [
            "11\n"
          ]
        }
      ]
    },
    {
      "cell_type": "code",
      "source": [
        "# 3. Write a code to slice the first 3 characters from the string \"Python Programming\"\n",
        "string2 = \"Python Programming\"\n",
        "print(string2[:3])"
      ],
      "metadata": {
        "colab": {
          "base_uri": "https://localhost:8080/"
        },
        "id": "t5lMKKX6XMLJ",
        "outputId": "72e61c62-e82d-43d0-af08-4b549e899409"
      },
      "execution_count": 7,
      "outputs": [
        {
          "output_type": "stream",
          "name": "stdout",
          "text": [
            "Pyt\n"
          ]
        }
      ]
    },
    {
      "cell_type": "code",
      "source": [
        "# 4. Write a code to convert the string \"hello\" to uppercase\n",
        "print(\"hello\".upper())"
      ],
      "metadata": {
        "colab": {
          "base_uri": "https://localhost:8080/"
        },
        "id": "b_acG2FzXTUf",
        "outputId": "29527e70-74fc-43fc-e811-0c034e82ebe0"
      },
      "execution_count": 9,
      "outputs": [
        {
          "output_type": "stream",
          "name": "stdout",
          "text": [
            "HELLO\n"
          ]
        }
      ]
    },
    {
      "cell_type": "code",
      "source": [
        "# 5. Write a code to replace the word \"apple\" with \"orange\" in the string \"I like apple\"\n",
        "print(\"I like apple\".replace(\"apple\", \"orange\"))"
      ],
      "metadata": {
        "colab": {
          "base_uri": "https://localhost:8080/"
        },
        "id": "cnCCT3KjXbGG",
        "outputId": "a82d10fd-d266-48ae-a4ac-8694777be39f"
      },
      "execution_count": 11,
      "outputs": [
        {
          "output_type": "stream",
          "name": "stdout",
          "text": [
            "I like orange\n"
          ]
        }
      ]
    },
    {
      "cell_type": "code",
      "source": [
        "# 6. Write a code to create a list with numbers 1 to 5 and print it\n",
        "num_list = [1, 2, 3, 4, 5]\n",
        "print(num_list)"
      ],
      "metadata": {
        "colab": {
          "base_uri": "https://localhost:8080/"
        },
        "id": "Kf74pEtXXh0k",
        "outputId": "0d8ed892-2d6d-4393-b397-7ce98b065042"
      },
      "execution_count": 13,
      "outputs": [
        {
          "output_type": "stream",
          "name": "stdout",
          "text": [
            "[1, 2, 3, 4, 5]\n"
          ]
        }
      ]
    },
    {
      "cell_type": "code",
      "source": [
        "# 7. Write a code to append the number 10 to the list [1, 2, 3, 4]\n",
        "list1 = [1, 2, 3, 4]\n",
        "list1.append(10)\n",
        "print(list1)"
      ],
      "metadata": {
        "colab": {
          "base_uri": "https://localhost:8080/"
        },
        "id": "nSB8FGPIXtuu",
        "outputId": "d18e0b51-65f2-4b41-faf5-901827109182"
      },
      "execution_count": 15,
      "outputs": [
        {
          "output_type": "stream",
          "name": "stdout",
          "text": [
            "[1, 2, 3, 4, 10]\n"
          ]
        }
      ]
    },
    {
      "cell_type": "code",
      "source": [
        "# 8. Write a code to remove the number 3 from the list [1, 2, 3, 4, 5]\n",
        "list2 = [1, 2, 3, 4, 5]\n",
        "list2.remove(3)\n",
        "print(list2)"
      ],
      "metadata": {
        "colab": {
          "base_uri": "https://localhost:8080/"
        },
        "id": "p8ZkpBw3XzFI",
        "outputId": "90902266-cc45-4deb-8565-0593f60e2eab"
      },
      "execution_count": 17,
      "outputs": [
        {
          "output_type": "stream",
          "name": "stdout",
          "text": [
            "[1, 2, 4, 5]\n"
          ]
        }
      ]
    },
    {
      "cell_type": "code",
      "source": [
        "# 9. Write a code to access the second element in the list ['a', 'b', 'c', 'd']\n",
        "char_list = ['a', 'b', 'c', 'd']\n",
        "print(char_list[1])"
      ],
      "metadata": {
        "colab": {
          "base_uri": "https://localhost:8080/"
        },
        "id": "G1VJ-jYKX2Vg",
        "outputId": "f48eb0aa-2fe7-4b3c-e53c-d9dc4d64a16c"
      },
      "execution_count": 19,
      "outputs": [
        {
          "output_type": "stream",
          "name": "stdout",
          "text": [
            "b\n"
          ]
        }
      ]
    },
    {
      "cell_type": "code",
      "source": [
        "# 10. Write a code to reverse the list [10, 20, 30, 40, 50]\n",
        "list3 = [10, 20, 30, 40, 50]\n",
        "print(list3[::-1])"
      ],
      "metadata": {
        "colab": {
          "base_uri": "https://localhost:8080/"
        },
        "id": "Aaivxpj2X6MM",
        "outputId": "ff37f720-fbd2-4f8b-9676-99297413fd6c"
      },
      "execution_count": 21,
      "outputs": [
        {
          "output_type": "stream",
          "name": "stdout",
          "text": [
            "[50, 40, 30, 20, 10]\n"
          ]
        }
      ]
    },
    {
      "cell_type": "code",
      "source": [
        "# 11. Write a code to create a tuple with the elements 100, 200, 300 and print it\n",
        "tuple1 = (100, 200, 300)\n",
        "print(tuple1)"
      ],
      "metadata": {
        "colab": {
          "base_uri": "https://localhost:8080/"
        },
        "id": "eJAQ1IpgX9hF",
        "outputId": "35c84273-3e5b-464e-d949-3cf7988610bd"
      },
      "execution_count": 23,
      "outputs": [
        {
          "output_type": "stream",
          "name": "stdout",
          "text": [
            "(100, 200, 300)\n"
          ]
        }
      ]
    },
    {
      "cell_type": "code",
      "source": [
        "# 12. Write a code to access the second-to-last element of the tuple ('red', 'green', 'blue', 'yellow')\n",
        "tuple2 = ('red', 'green', 'blue', 'yellow')\n",
        "print(tuple2[-2])"
      ],
      "metadata": {
        "colab": {
          "base_uri": "https://localhost:8080/"
        },
        "id": "6dmRQOP7YA5R",
        "outputId": "d01830e4-f1a6-4df3-aa34-62386b8455d4"
      },
      "execution_count": 25,
      "outputs": [
        {
          "output_type": "stream",
          "name": "stdout",
          "text": [
            "blue\n"
          ]
        }
      ]
    },
    {
      "cell_type": "code",
      "source": [
        "# 13. Write a code to find the minimum number in the tuple (10, 20, 5, 15)\n",
        "tuple3 = (10, 20, 5, 15)\n",
        "print(min(tuple3))"
      ],
      "metadata": {
        "colab": {
          "base_uri": "https://localhost:8080/"
        },
        "id": "iX_9m_64YDy0",
        "outputId": "2e816bba-fd73-4e4a-a5b5-40e94b9598d8"
      },
      "execution_count": 27,
      "outputs": [
        {
          "output_type": "stream",
          "name": "stdout",
          "text": [
            "5\n"
          ]
        }
      ]
    },
    {
      "cell_type": "code",
      "source": [
        "# 14. Write a code to find the index of the element \"cat\" in the tuple ('dog', 'cat', 'rabbit')\n",
        "tuple4 = ('dog', 'cat', 'rabbit')\n",
        "print(tuple4.index(\"cat\"))"
      ],
      "metadata": {
        "colab": {
          "base_uri": "https://localhost:8080/"
        },
        "id": "L4HN7MVVYFNn",
        "outputId": "7e536bee-55ef-4f99-9362-57630b79d9b6"
      },
      "execution_count": 29,
      "outputs": [
        {
          "output_type": "stream",
          "name": "stdout",
          "text": [
            "1\n"
          ]
        }
      ]
    },
    {
      "cell_type": "code",
      "source": [
        "# 15. Write a code to create a tuple containing three different fruits and check if \"kiwi\" is in it\n",
        "tuple5 = ('apple', 'banana', 'mango')\n",
        "print(\"kiwi\" in tuple5)"
      ],
      "metadata": {
        "colab": {
          "base_uri": "https://localhost:8080/"
        },
        "id": "b4E4bVnOYMDl",
        "outputId": "64193aff-40b1-4ab9-d660-6a76e501985e"
      },
      "execution_count": 31,
      "outputs": [
        {
          "output_type": "stream",
          "name": "stdout",
          "text": [
            "False\n"
          ]
        }
      ]
    },
    {
      "cell_type": "code",
      "source": [
        "# 16. Write a code to create a set with the elements 'a', 'b', 'c' and print it\n",
        "set1 = {'a', 'b', 'c'}\n",
        "print(set1)"
      ],
      "metadata": {
        "colab": {
          "base_uri": "https://localhost:8080/"
        },
        "id": "dMY1B9wlYO9s",
        "outputId": "c6e078ef-9ff0-43c0-a397-ab7352e6592c"
      },
      "execution_count": 33,
      "outputs": [
        {
          "output_type": "stream",
          "name": "stdout",
          "text": [
            "{'c', 'a', 'b'}\n"
          ]
        }
      ]
    },
    {
      "cell_type": "code",
      "source": [
        "# 17. Write a code to clear all elements from the set {1, 2, 3, 4, 5}\n",
        "set2 = {1, 2, 3, 4, 5}\n",
        "set2.clear()\n",
        "print(set2)"
      ],
      "metadata": {
        "colab": {
          "base_uri": "https://localhost:8080/"
        },
        "id": "fbxOOB1NYQgo",
        "outputId": "954b30bc-2001-4a83-fd19-a6fdabed6dc3"
      },
      "execution_count": 35,
      "outputs": [
        {
          "output_type": "stream",
          "name": "stdout",
          "text": [
            "set()\n"
          ]
        }
      ]
    },
    {
      "cell_type": "code",
      "source": [
        "# 18. Write a code to remove the element 4 from the set {1, 2, 3, 4}\n",
        "set3 = {1, 2, 3, 4}\n",
        "set3.remove(4)\n",
        "print(set3)"
      ],
      "metadata": {
        "colab": {
          "base_uri": "https://localhost:8080/"
        },
        "id": "pDdjziHkYXiF",
        "outputId": "ca3f616f-73f6-4318-b2a6-e0bc1b113ca1"
      },
      "execution_count": 37,
      "outputs": [
        {
          "output_type": "stream",
          "name": "stdout",
          "text": [
            "{1, 2, 3}\n"
          ]
        }
      ]
    },
    {
      "cell_type": "code",
      "source": [
        "# 19. Write a code to find the union of two sets {1, 2, 3} and {3, 4, 5}\n",
        "set4 = {1, 2, 3}\n",
        "set5 = {3, 4, 5}\n",
        "print(set4.union(set5))"
      ],
      "metadata": {
        "colab": {
          "base_uri": "https://localhost:8080/"
        },
        "id": "nNRQcqhgYbGx",
        "outputId": "a7effef7-6811-4f75-a1b0-67eefec0d672"
      },
      "execution_count": 39,
      "outputs": [
        {
          "output_type": "stream",
          "name": "stdout",
          "text": [
            "{1, 2, 3, 4, 5}\n"
          ]
        }
      ]
    },
    {
      "cell_type": "code",
      "source": [
        "# 20. Write a code to find the intersection of two sets {1, 2, 3} and {2, 3, 4}\n",
        "print({1, 2, 3}.intersection({2, 3, 4}))"
      ],
      "metadata": {
        "colab": {
          "base_uri": "https://localhost:8080/"
        },
        "id": "Yi8vp8WhYezV",
        "outputId": "298706d3-b910-4f50-ecb8-b4edc2115597"
      },
      "execution_count": 41,
      "outputs": [
        {
          "output_type": "stream",
          "name": "stdout",
          "text": [
            "{2, 3}\n"
          ]
        }
      ]
    },
    {
      "cell_type": "code",
      "source": [
        "# 21. Write a code to create a dictionary with the keys \"name\", \"age\", and \"city\", and print it\n",
        "dict1 = {\"name\": \"John\", \"age\": 25, \"city\": \"New York\"}\n",
        "print(dict1)"
      ],
      "metadata": {
        "colab": {
          "base_uri": "https://localhost:8080/"
        },
        "id": "Zf-MRN-FYgIu",
        "outputId": "c4c83b97-ac06-4c58-ad35-dc25dd1b5a09"
      },
      "execution_count": 43,
      "outputs": [
        {
          "output_type": "stream",
          "name": "stdout",
          "text": [
            "{'name': 'John', 'age': 25, 'city': 'New York'}\n"
          ]
        }
      ]
    },
    {
      "cell_type": "code",
      "source": [
        "# 22. Write a code to add a new key-value pair \"country\": \"USA\" to the dictionary {'name': 'John', 'age': 25}\n",
        "dict1[\"country\"] = \"USA\"\n",
        "print(dict1)"
      ],
      "metadata": {
        "colab": {
          "base_uri": "https://localhost:8080/"
        },
        "id": "3eQfG_TVYkkM",
        "outputId": "64e18c08-2487-42e8-ecf3-d4f926e6c15e"
      },
      "execution_count": 45,
      "outputs": [
        {
          "output_type": "stream",
          "name": "stdout",
          "text": [
            "{'name': 'John', 'age': 25, 'city': 'New York', 'country': 'USA'}\n"
          ]
        }
      ]
    },
    {
      "cell_type": "code",
      "source": [
        "# 23. Write a code to access the value associated with the key \"name\" in the dictionary {'name': 'Alice', 'age': 30}\n",
        "dict2 = {\"name\": \"Alice\", \"age\": 30}\n",
        "print(dict2[\"name\"])"
      ],
      "metadata": {
        "colab": {
          "base_uri": "https://localhost:8080/"
        },
        "id": "DUnZPm2FYpLa",
        "outputId": "d5760e28-21ac-4709-dd2f-42bd45b4fc64"
      },
      "execution_count": 47,
      "outputs": [
        {
          "output_type": "stream",
          "name": "stdout",
          "text": [
            "Alice\n"
          ]
        }
      ]
    },
    {
      "cell_type": "code",
      "source": [
        "# 24. Write a code to remove the key \"age\" from the dictionary {'name': 'Bob', 'age': 22, 'city': 'New York'}\n",
        "dict3 = {'name': 'Bob', 'age': 22, 'city': 'New York'}\n",
        "del dict3[\"age\"]\n",
        "print(dict3)"
      ],
      "metadata": {
        "colab": {
          "base_uri": "https://localhost:8080/"
        },
        "id": "r4LhS5DrYuWI",
        "outputId": "34591fb7-c10c-4796-c5e0-423b10c49dd6"
      },
      "execution_count": 49,
      "outputs": [
        {
          "output_type": "stream",
          "name": "stdout",
          "text": [
            "{'name': 'Bob', 'city': 'New York'}\n"
          ]
        }
      ]
    },
    {
      "cell_type": "code",
      "source": [
        "# 25. Write a code to check if the key \"city\" exists in the dictionary {'name': 'Alice', 'city': 'Paris'}\n",
        "dict4 = {'name': 'Alice', 'city': 'Paris'}\n",
        "print(\"city\" in dict4)"
      ],
      "metadata": {
        "colab": {
          "base_uri": "https://localhost:8080/"
        },
        "id": "yXaRXzkmYyWq",
        "outputId": "9f8494dd-cd05-40ac-e874-64b72e509062"
      },
      "execution_count": 51,
      "outputs": [
        {
          "output_type": "stream",
          "name": "stdout",
          "text": [
            "True\n"
          ]
        }
      ]
    },
    {
      "cell_type": "code",
      "source": [
        "# 26. Write a code to create a list, a tuple, and a dictionary, and print them all\n",
        "list4 = [1, 2, 3]\n",
        "tuple6 = (4, 5, 6)\n",
        "dict5 = {\"a\": 7, \"b\": 8}\n",
        "print(list4, tuple6, dict5)"
      ],
      "metadata": {
        "colab": {
          "base_uri": "https://localhost:8080/"
        },
        "id": "-5XoTbwFY4gr",
        "outputId": "e660ddf4-14f7-4c15-e273-050fbb6b6024"
      },
      "execution_count": 53,
      "outputs": [
        {
          "output_type": "stream",
          "name": "stdout",
          "text": [
            "[1, 2, 3] (4, 5, 6) {'a': 7, 'b': 8}\n"
          ]
        }
      ]
    },
    {
      "cell_type": "code",
      "source": [
        "# 27. Write a code to create a list of 5 random numbers between 1 and 100, sort it in ascending order, and print the result\n",
        "import random\n",
        "rand_list = sorted(random.sample(range(1, 101), 5))\n",
        "print(rand_list)"
      ],
      "metadata": {
        "colab": {
          "base_uri": "https://localhost:8080/"
        },
        "id": "UhsshV89ZG51",
        "outputId": "6f18d0e4-8180-4045-844a-deb124989ea1"
      },
      "execution_count": 54,
      "outputs": [
        {
          "output_type": "stream",
          "name": "stdout",
          "text": [
            "[22, 40, 73, 74, 99]\n"
          ]
        }
      ]
    },
    {
      "cell_type": "code",
      "source": [
        "# 28. Write a code to create a list with strings and print the element at the third index\n",
        "list5 = [\"apple\", \"banana\", \"cherry\", \"date\", \"elderberry\"]\n",
        "print(list5[3])"
      ],
      "metadata": {
        "colab": {
          "base_uri": "https://localhost:8080/"
        },
        "id": "ylPNr_1TZKNu",
        "outputId": "c5755471-e4fb-4b0a-9ef9-b09db5d155a0"
      },
      "execution_count": 56,
      "outputs": [
        {
          "output_type": "stream",
          "name": "stdout",
          "text": [
            "date\n"
          ]
        }
      ]
    },
    {
      "cell_type": "code",
      "source": [
        "# 29. Write a code to combine two dictionaries into one and print the result\n",
        "dict6 = {\"x\": 1, \"y\": 2}\n",
        "dict7 = {\"z\": 3, \"w\": 4}\n",
        "dict6.update(dict7)\n",
        "print(dict6)"
      ],
      "metadata": {
        "colab": {
          "base_uri": "https://localhost:8080/"
        },
        "id": "spShmDNuZPCi",
        "outputId": "54a2f943-6561-4773-9b5c-5a25db0a3a3c"
      },
      "execution_count": 58,
      "outputs": [
        {
          "output_type": "stream",
          "name": "stdout",
          "text": [
            "{'x': 1, 'y': 2, 'z': 3, 'w': 4}\n"
          ]
        }
      ]
    },
    {
      "cell_type": "code",
      "source": [
        "# 30. Write a code to convert a list of strings into a set\n",
        "list6 = [\"apple\", \"banana\", \"cherry\", \"apple\"]\n",
        "print(set(list6))"
      ],
      "metadata": {
        "colab": {
          "base_uri": "https://localhost:8080/"
        },
        "id": "Na_Yf-EXZTIr",
        "outputId": "ccffdfac-d656-46e9-9319-140262332889"
      },
      "execution_count": 59,
      "outputs": [
        {
          "output_type": "stream",
          "name": "stdout",
          "text": [
            "{'cherry', 'banana', 'apple'}\n"
          ]
        }
      ]
    }
  ]
}