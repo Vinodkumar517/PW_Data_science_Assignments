{
  "nbformat": 4,
  "nbformat_minor": 0,
  "metadata": {
    "colab": {
      "provenance": []
    },
    "kernelspec": {
      "name": "python3",
      "display_name": "Python 3"
    },
    "language_info": {
      "name": "python"
    }
  },
  "cells": [
    {
      "cell_type": "markdown",
      "source": [],
      "metadata": {
        "id": "kW5u8J8Yus_s"
      }
    },
    {
      "cell_type": "markdown",
      "source": [
        "### 1. What is Object-Oriented Programming (OOP)?  \n",
        " OOP is a programming paradigm that organizes data and behavior into objects. It allows code reuse and better structure using classes and objects.\n",
        "\n",
        "### 2. What is a class in OOP?\n",
        "A class is a blueprint or template for creating objects. It defines the properties (attributes) and behaviors (methods) that the objects created from it will have.\n",
        "```python\n",
        "class Car:\n",
        "    def __init__(self, brand):\n",
        "        self.brand = brand\n",
        "```\n",
        "\n",
        "### 3. What is an object in OOP?\n",
        "An object is an instance of a class. It represents a real-world entity and has a state (attributes) and behavior (methods).\n",
        "```python\n",
        "car = Car(\"Toyota\")\n",
        "print(car.brand)\n",
        "```\n",
        "\n",
        "\n",
        "### 4. What is the difference between abstraction and encapsulation?\n",
        "- Abstraction hides complex implementation details.\n",
        "- Encapsulation restricts direct access to data using private and protected members.\n",
        "\n",
        "### 5. What are dunder methods in Python?\n",
        "Dunder (double underscore) methods are special methods in Python that have names starting and ending with __. They are used to define the behavior of objects, such as object creation (__init__), string representation (__str__), and operator overloading (__add__).\n",
        "```python\n",
        "class Example:\n",
        "    def __str__(self):\n",
        "        return \"Example class\"\n",
        "```\n",
        "\n",
        "### 6. Explain the concept of inheritance in OOP\n",
        "Inheritance allows a class (child class) to derive the properties and methods of another class (parent class). It promotes code reusability and hierarchy. A subclass can modify or extend the behavior of the parent class.\n",
        "```python\n",
        "class Parent:\n",
        "    def show(self):\n",
        "        print(\"Parent\")\n",
        "\n",
        "class Child(Parent):\n",
        "    pass\n",
        "```\n",
        "### 7. What is polymorphism in OOP?\n",
        "Polymorphism allows objects of different classes to be treated as objects of a common superclass. It enables a single interface to represent different underlying forms, promoting flexibility and scalability\n",
        "```python\n",
        "class Dog:\n",
        "    def sound(self):\n",
        "        print(\"Bark\")\n",
        "\n",
        "class Cat:\n",
        "    def sound(self):\n",
        "        print(\"Meow\")\n",
        "```\n",
        "### 8. How is encapsulation achieved in Python?\n",
        "Encapsulation is achieved using private (__) and protected (_) attributes. Private attributes cannot be accessed directly outside the class, while protected attributes can be accessed within the class and its subclasses.\n",
        "```python\n",
        "class Example:\n",
        "    __data = 10\n",
        "```\n",
        "### 9. What is a constructor in Python?\n",
        "A constructor (__init__) is a special method that is automatically called when an object is created. It is used to initialize the object's attributes.\n",
        "```python\n",
        "class Example:\n",
        "    def __init__(self):\n",
        "        print(\"Constructor called\")\n",
        "```\n",
        "### 10. What are class and static methods in Python?\n",
        "Class methods – Defined using @classmethod and take cls as the first parameter. They modify class-level attributes.\n",
        "Static methods – Defined using @staticmethod. They do not take cls or self and work independently of class or instance attributes.\n",
        "```python\n",
        "class Example:\n",
        "    @classmethod\n",
        "    def cls_method(cls):\n",
        "        pass\n",
        "    \n",
        "    @staticmethod\n",
        "    def static_method():\n",
        "        pass\n",
        "```\n",
        "### 11. What is method overloading in Python?\n",
        "Python does not support traditional method overloading (multiple methods with the same name but different parameters). However, it can be simulated using default parameters and variable-length arguments.\n",
        "```python\n",
        "class Example:\n",
        "    def display(self, value=None):\n",
        "        print(value if value else \"No value\")\n",
        "```\n",
        "### 12. What is method overriding in OOP?\n",
        "Method overriding occurs when a subclass provides a specific implementation of a method that is already defined in the parent class. The overridden method in the child class takes precedence.\n",
        "```python\n",
        "class Parent:\n",
        "    def show(self):\n",
        "        print(\"Parent\")\n",
        "\n",
        "class Child(Parent):\n",
        "    def show(self):\n",
        "        print(\"Child\")\n",
        "```\n",
        "### 13. What is a property decorator in Python?\n",
        "The @property decorator allows a method to be accessed like an attribute. It is used to define getter, setter, and deleter methods, promoting controlled access to class attributes\n",
        "```python\n",
        "class Example:\n",
        "    @property\n",
        "    def value(self):\n",
        "        return 10\n",
        "```\n",
        "### 14. Why is polymorphism important in OOP?\n",
        "Polymorphism allows objects of different classes to be treated uniformly through a common interface, improving code flexibility, scalability, and maintainability.\n",
        "- Polymorphism allows objects of different classes to be treated as objects of a common superclass.\n",
        "\n",
        "### 15. What is an abstract class in Python?\n",
        "An abstract class is a base class that cannot be instantiated. It contains abstract methods that must be implemented by any subclass. Abstract classes are defined using the ABC module.\n",
        "```python\n",
        "from abc import ABC, abstractmethod\n",
        "class Example(ABC):\n",
        "    @abstractmethod\n",
        "    def show(self):\n",
        "        pass\n",
        "```\n",
        "### 16. What are the advantages of OOP?\n",
        " - Code reuse\n",
        " - Better structure and maintenance\n",
        " - Abstraction and encapsulation\n",
        "\n",
        "### 17. What is the difference between a class variable and an instance variable?\n",
        "Class variable – Shared across all instances of a class. Defined outside any method.\n",
        "Instance variable – Unique to each instance of a class. Defined within methods using self.\n",
        "```python\n",
        "class Example:\n",
        "    class_var = 10\n",
        "    def __init__(self):\n",
        "        self.instance_var = 20\n",
        "```\n",
        "### 18. What is multiple inheritance in Python?\n",
        "Multiple inheritance allows a class to inherit from more than one parent class, enabling the child class to acquire the attributes and methods of multiple parent classes.\n",
        "```python\n",
        "class A: pass  \n",
        "class B: pass  \n",
        "class C(A, B): pass  \n",
        "```\n",
        "### 19. Explain the purpose of __str__ and __repr__ methods in Python\n",
        "__str__ – Returns a user-friendly string representation of an object.\n",
        "__repr__ – Returns a formal string representation of an object, useful for debugging.\n",
        "```python\n",
        "class Example:\n",
        "    def __str__(self):\n",
        "        return \"String format\"\n",
        "    \n",
        "    def __repr__(self):\n",
        "        return \"Developer format\"\n",
        "```\n",
        "### 20. What is the significance of the super() function in Python?\n",
        "The super() function allows a subclass to access the methods and properties of its parent class, facilitating code reuse and extending functionality.\n",
        "```python\n",
        "class Parent:\n",
        "    def show(self):\n",
        "        print(\"Parent\")\n",
        "\n",
        "class Child(Parent):\n",
        "    def show(self):\n",
        "        super().show()\n",
        "        print(\"Child\")\n",
        "```\n",
        "### 21. What is the significance of the __del__ method in Python?\n",
        "The __del__ method is called when an object is deleted. It is used for cleanup operations like closing files or releasing memory.\n",
        "```python\n",
        "class Example:\n",
        "    def __del__(self):\n",
        "        print(\"Object deleted\")\n",
        "```\n",
        "### 22. What is the difference between @staticmethod and @classmethod in Python?\n",
        " - @classmethod – Works on the class level.\n",
        " - @staticmethod – Works without class context.\n",
        "\n",
        "### 23. How does polymorphism work in Python with inheritance?\n",
        "Polymorphism allows methods in child classes to override parent class methods, enabling different behavior through a common interface.\n",
        "```python\n",
        "class Animal:\n",
        "    def sound(self):\n",
        "        pass\n",
        "\n",
        "class Dog(Animal):\n",
        "    def sound(self):\n",
        "        print(\"Bark\")\n",
        "```\n",
        "### 24. What is method chaining in Python OOP?\n",
        "Method chaining allows multiple methods to be called on the same object in a single statement by returning self from each method.\n",
        "```python\n",
        "class Example:\n",
        "    def step1(self):\n",
        "        print(\"Step 1\")\n",
        "        return self\n",
        "    \n",
        "    def step2(self):\n",
        "        print(\"Step 2\")\n",
        "        return self\n",
        "\n",
        "e = Example()\n",
        "e.step1().step2()\n",
        "```\n",
        "### 25. What is the purpose of the __call__ method in Python?\n",
        "The __call__ method allows an object to be called like a function. When defined, calling an instance of the class will invoke this method.\n",
        "```python\n",
        "class Example:\n",
        "    def __call__(self):\n",
        "        print(\"Called\")\n",
        "\n",
        "e = Example()\n",
        "e()\n",
        "```"
      ],
      "metadata": {
        "id": "V-FjpL8Luu1c"
      }
    },
    {
      "cell_type": "code",
      "source": [
        "# Q1: Create a parent class Animal with a method speak() and a child class Dog that overrides the speak() method.\n",
        "\n",
        "class Animal:\n",
        "    def speak(self):\n",
        "        print(\"Animal speaks\")\n",
        "\n",
        "class Dog(Animal):\n",
        "    def speak(self):\n",
        "        print(\"Bark!\")\n",
        "\n",
        "dog = Dog()\n",
        "dog.speak()"
      ],
      "metadata": {
        "colab": {
          "base_uri": "https://localhost:8080/"
        },
        "id": "4qnrajn8DuFM",
        "outputId": "0cd6efb4-f0db-4092-b5da-120fbdbde78c"
      },
      "execution_count": null,
      "outputs": [
        {
          "output_type": "stream",
          "name": "stdout",
          "text": [
            "Bark!\n"
          ]
        }
      ]
    },
    {
      "cell_type": "code",
      "source": [
        "# Q2: Create an abstract class Shape with a method area(). Derive Circle and Rectangle and implement area() method.\n",
        "\n",
        "from abc import ABC, abstractmethod\n",
        "\n",
        "class Shape(ABC):\n",
        "    @abstractmethod\n",
        "    def area(self):\n",
        "        pass\n",
        "\n",
        "class Circle(Shape):\n",
        "    def __init__(self, radius):\n",
        "        self.radius = radius\n",
        "\n",
        "    def area(self):\n",
        "        return 3.14 * self.radius * self.radius\n",
        "\n",
        "class Rectangle(Shape):\n",
        "    def __init__(self, length, width):\n",
        "        self.length = length\n",
        "        self.width = width\n",
        "\n",
        "    def area(self):\n",
        "        return self.length * self.width\n",
        "\n",
        "circle = Circle(5)\n",
        "rectangle = Rectangle(4, 6)\n",
        "print(circle.area())\n",
        "print(rectangle.area())"
      ],
      "metadata": {
        "colab": {
          "base_uri": "https://localhost:8080/"
        },
        "id": "6e3Y0IXmMcVs",
        "outputId": "8f2184f9-52bb-4aab-afee-90a7b1fadb49"
      },
      "execution_count": null,
      "outputs": [
        {
          "output_type": "stream",
          "name": "stdout",
          "text": [
            "78.5\n",
            "24\n"
          ]
        }
      ]
    },
    {
      "cell_type": "code",
      "source": [
        "# Q3: Implement multi-level inheritance with Vehicle -> Car -> ElectricCar.\n",
        "\n",
        "class Vehicle:\n",
        "    def __init__(self, type):\n",
        "        self.type = type\n",
        "\n",
        "class Car(Vehicle):\n",
        "    def __init__(self, type, brand):\n",
        "        super().__init__(type)\n",
        "        self.brand = brand\n",
        "\n",
        "class ElectricCar(Car):\n",
        "    def __init__(self, type, brand, battery):\n",
        "        super().__init__(type, brand)\n",
        "        self.battery = battery\n",
        "\n",
        "tesla = ElectricCar(\"Electric\", \"Tesla\", \"100 kWh\")\n",
        "print(tesla.type, tesla.brand, tesla.battery)"
      ],
      "metadata": {
        "colab": {
          "base_uri": "https://localhost:8080/"
        },
        "id": "OlMAHoGKMmDz",
        "outputId": "68606f8b-212d-41c1-f43a-c568736107c6"
      },
      "execution_count": null,
      "outputs": [
        {
          "output_type": "stream",
          "name": "stdout",
          "text": [
            "Electric Tesla 100 kWh\n"
          ]
        }
      ]
    },
    {
      "cell_type": "code",
      "source": [
        "# Q4: Demonstrate polymorphism using Bird -> Sparrow, Penguin overriding fly() method.\n",
        "\n",
        "class Bird:\n",
        "    def fly(self):\n",
        "        print(\"Bird is flying\")\n",
        "\n",
        "class Sparrow(Bird):\n",
        "    def fly(self):\n",
        "        print(\"Sparrow can fly\")\n",
        "\n",
        "class Penguin(Bird):\n",
        "    def fly(self):\n",
        "        print(\"Penguin cannot fly\")\n",
        "\n",
        "sparrow = Sparrow()\n",
        "penguin = Penguin()\n",
        "sparrow.fly()\n",
        "penguin.fly()"
      ],
      "metadata": {
        "colab": {
          "base_uri": "https://localhost:8080/"
        },
        "id": "AX4-KfFUM2jv",
        "outputId": "95ac07a4-845b-40d1-d923-a412008349a4"
      },
      "execution_count": null,
      "outputs": [
        {
          "output_type": "stream",
          "name": "stdout",
          "text": [
            "Sparrow can fly\n",
            "Penguin cannot fly\n"
          ]
        }
      ]
    },
    {
      "cell_type": "code",
      "source": [
        "# Q5: Demonstrate encapsulation with a class BankAccount.\n",
        "\n",
        "class BankAccount:\n",
        "    def __init__(self, balance):\n",
        "        self.__balance = balance\n",
        "\n",
        "    def deposit(self, amount):\n",
        "        self.__balance += amount\n",
        "\n",
        "    def withdraw(self, amount):\n",
        "        if amount <= self.__balance:\n",
        "            self.__balance -= amount\n",
        "        else:\n",
        "            print(\"Insufficient balance\")\n",
        "\n",
        "    def check_balance(self):\n",
        "        return self.__balance\n",
        "\n",
        "account = BankAccount(1000)\n",
        "account.deposit(500)\n",
        "account.withdraw(300)\n",
        "print(account.check_balance())"
      ],
      "metadata": {
        "colab": {
          "base_uri": "https://localhost:8080/"
        },
        "id": "LA2tHmhOM7nh",
        "outputId": "b6b56091-82b5-437c-d0e7-4897a9f86488"
      },
      "execution_count": null,
      "outputs": [
        {
          "output_type": "stream",
          "name": "stdout",
          "text": [
            "1200\n"
          ]
        }
      ]
    },
    {
      "cell_type": "code",
      "source": [
        "# Q6: Demonstrate runtime polymorphism using Instrument -> Guitar, Piano with play().\n",
        "\n",
        "class Instrument:\n",
        "    def play(self):\n",
        "        print(\"Playing instrument\")\n",
        "\n",
        "class Guitar(Instrument):\n",
        "    def play(self):\n",
        "        print(\"Playing guitar\")\n",
        "\n",
        "class Piano(Instrument):\n",
        "    def play(self):\n",
        "        print(\"Playing piano\")\n",
        "\n",
        "guitar = Guitar()\n",
        "piano = Piano()\n",
        "guitar.play()\n",
        "piano.play()"
      ],
      "metadata": {
        "colab": {
          "base_uri": "https://localhost:8080/"
        },
        "id": "0EYN6uCbNDSs",
        "outputId": "62eacad7-58ef-48dd-ff4b-4afb9d075bec"
      },
      "execution_count": null,
      "outputs": [
        {
          "output_type": "stream",
          "name": "stdout",
          "text": [
            "Playing guitar\n",
            "Playing piano\n"
          ]
        }
      ]
    },
    {
      "cell_type": "code",
      "source": [
        "# Q7: Create MathOperations with class method and static method.\n",
        "\n",
        "class MathOperations:\n",
        "    @classmethod\n",
        "    def add_numbers(cls, a, b):\n",
        "        return a + b\n",
        "\n",
        "    @staticmethod\n",
        "    def subtract_numbers(a, b):\n",
        "        return a - b\n",
        "\n",
        "print(MathOperations.add_numbers(10, 5))\n",
        "print(MathOperations.subtract_numbers(10, 5))"
      ],
      "metadata": {
        "colab": {
          "base_uri": "https://localhost:8080/"
        },
        "id": "PK-sJZiPNSA3",
        "outputId": "f89c1b3e-8bae-468a-ee63-4f4c333fbcfd"
      },
      "execution_count": null,
      "outputs": [
        {
          "output_type": "stream",
          "name": "stdout",
          "text": [
            "15\n",
            "5\n"
          ]
        }
      ]
    },
    {
      "cell_type": "code",
      "source": [
        "# Q8: Implement a class Person to count instances using a class method.\n",
        "\n",
        "class Person:\n",
        "    count = 0\n",
        "\n",
        "    def __init__(self):\n",
        "        Person.count += 1\n",
        "\n",
        "    @classmethod\n",
        "    def get_count(cls):\n",
        "        return cls.count\n",
        "\n",
        "p1 = Person()\n",
        "p2 = Person()\n",
        "print(Person.get_count())"
      ],
      "metadata": {
        "colab": {
          "base_uri": "https://localhost:8080/"
        },
        "id": "OFshNfPHNY0K",
        "outputId": "fc41b263-edc3-4b88-81bd-e103bf7d035d"
      },
      "execution_count": null,
      "outputs": [
        {
          "output_type": "stream",
          "name": "stdout",
          "text": [
            "2\n"
          ]
        }
      ]
    },
    {
      "cell_type": "code",
      "source": [
        "# Q9: Create a class Fraction and override __str__ method.\n",
        "\n",
        "class Fraction:\n",
        "    def __init__(self, numerator, denominator):\n",
        "        self.numerator = numerator\n",
        "        self.denominator = denominator\n",
        "\n",
        "    def __str__(self):\n",
        "        return f\"{self.numerator}/{self.denominator}\"\n",
        "\n",
        "fraction = Fraction(3, 4)\n",
        "print(fraction)"
      ],
      "metadata": {
        "colab": {
          "base_uri": "https://localhost:8080/"
        },
        "id": "aTCzgAyzNdUA",
        "outputId": "ad1b920a-a700-45ee-d38e-bd21a311b654"
      },
      "execution_count": null,
      "outputs": [
        {
          "output_type": "stream",
          "name": "stdout",
          "text": [
            "3/4\n"
          ]
        }
      ]
    },
    {
      "cell_type": "code",
      "source": [
        "# Q10: Demonstrate operator overloading with a class Vector.\n",
        "\n",
        "class Vector:\n",
        "    def __init__(self, x, y):\n",
        "        self.x = x\n",
        "        self.y = y\n",
        "\n",
        "    def __add__(self, other):\n",
        "        return Vector(self.x + other.x, self.y + other.y)\n",
        "\n",
        "    def __str__(self):\n",
        "        return f\"({self.x}, {self.y})\"\n",
        "\n",
        "v1 = Vector(1, 2)\n",
        "v2 = Vector(3, 4)\n",
        "result = v1 + v2\n",
        "print(result)"
      ],
      "metadata": {
        "colab": {
          "base_uri": "https://localhost:8080/"
        },
        "id": "M_l9iA3RNjn9",
        "outputId": "51c4f882-6398-47b3-84eb-687ed86ed36f"
      },
      "execution_count": null,
      "outputs": [
        {
          "output_type": "stream",
          "name": "stdout",
          "text": [
            "(4, 6)\n"
          ]
        }
      ]
    },
    {
      "cell_type": "code",
      "source": [
        "# Q11: Create a class Person with greet() method.\n",
        "\n",
        "class Person:\n",
        "    def __init__(self, name, age):\n",
        "        self.name = name\n",
        "        self.age = age\n",
        "\n",
        "    def greet(self):\n",
        "        print(f\"Hello, my name is {self.name} and I am {self.age} years old.\")\n",
        "\n",
        "p = Person(\"John\", 30)\n",
        "p.greet()"
      ],
      "metadata": {
        "colab": {
          "base_uri": "https://localhost:8080/"
        },
        "id": "zwo8QcwvNnpr",
        "outputId": "01299b7e-c203-487b-c23f-f2f165df1ef2"
      },
      "execution_count": null,
      "outputs": [
        {
          "output_type": "stream",
          "name": "stdout",
          "text": [
            "Hello, my name is John and I am 30 years old.\n"
          ]
        }
      ]
    },
    {
      "cell_type": "code",
      "source": [
        "# Q12: Create a class Student with average_grade() method.\n",
        "\n",
        "class Student:\n",
        "    def __init__(self, name, grades):\n",
        "        self.name = name\n",
        "        self.grades = grades\n",
        "\n",
        "    def average_grade(self):\n",
        "        return sum(self.grades) / len(self.grades)\n",
        "\n",
        "student = Student(\"Alice\", [90, 85, 88])\n",
        "print(student.average_grade())"
      ],
      "metadata": {
        "colab": {
          "base_uri": "https://localhost:8080/"
        },
        "id": "J7R1u9ebNs85",
        "outputId": "87a05fb8-eccb-4fe0-d028-2cdbca682abc"
      },
      "execution_count": null,
      "outputs": [
        {
          "output_type": "stream",
          "name": "stdout",
          "text": [
            "87.66666666666667\n"
          ]
        }
      ]
    },
    {
      "cell_type": "code",
      "source": [
        "# Q13: Create a class Rectangle with set_dimensions() and area().\n",
        "\n",
        "class Rectangle:\n",
        "    def set_dimensions(self, length, width):\n",
        "        self.length = length\n",
        "        self.width = width\n",
        "\n",
        "    def area(self):\n",
        "        return self.length * self.width\n",
        "\n",
        "rect = Rectangle()\n",
        "rect.set_dimensions(5, 4)\n",
        "print(rect.area())"
      ],
      "metadata": {
        "colab": {
          "base_uri": "https://localhost:8080/"
        },
        "id": "0B8QzSs5NukC",
        "outputId": "f3acc6ba-d034-4a71-9c3f-08f45a8f18c1"
      },
      "execution_count": null,
      "outputs": [
        {
          "output_type": "stream",
          "name": "stdout",
          "text": [
            "20\n"
          ]
        }
      ]
    },
    {
      "cell_type": "code",
      "source": [],
      "metadata": {
        "id": "ZiuftTJHNzQA"
      },
      "execution_count": null,
      "outputs": []
    }
  ]
}