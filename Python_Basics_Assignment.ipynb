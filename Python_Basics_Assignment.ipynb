{
  "nbformat": 4,
  "nbformat_minor": 0,
  "metadata": {
    "colab": {
      "provenance": []
    },
    "kernelspec": {
      "name": "python3",
      "display_name": "Python 3"
    },
    "language_info": {
      "name": "python"
    }
  },
  "cells": [
    {
      "cell_type": "markdown",
      "source": [],
      "metadata": {
        "id": "WFztq1mM8LKd"
      }
    },
    {
      "cell_type": "markdown",
      "source": [
        "# Python Basics Assignment  \n",
        "\n",
        "## 1. What is Python, and why is it popular?  \n",
        "Python is a high-level, interpreted programming language known for its simplicity and readability. It is popular due to its extensive libraries, ease of learning, and versatility in fields like data science, web development, and automation.  \n",
        "\n",
        "## 2. What is an interpreter in Python?  \n",
        "An interpreter in Python is a program that executes Python code line by line instead of compiling it all at once, making debugging easier.  \n",
        "\n",
        "## 3. What are pre-defined keywords in Python?  \n",
        "Pre-defined keywords are reserved words in Python that have a specific meaning and cannot be used as variable names. Examples include `if`, `else`, `while`, `for`, `def`, `return`, etc.  \n",
        "\n",
        "## 4. Can keywords be used as variable names?  \n",
        "No, keywords cannot be used as variable names because they have predefined meanings and functionalities in Python.  \n",
        "\n",
        "## 5. What is mutability in Python?  \n",
        "Mutability refers to whether an object’s value can be changed after creation. Mutable objects can be modified, while immutable objects cannot.  \n",
        "\n",
        "## 6. Why are lists mutable, but tuples are immutable?  \n",
        "Lists are mutable, meaning elements can be added, removed, or changed after creation. Tuples are immutable, meaning their values cannot be altered once they are created, making them more memory-efficient and secure.  \n",
        "\n",
        "## 7. What is the difference between `==` and `is` operators in Python?  \n",
        "- `==` checks if two variables have the same value.  \n",
        "- `is` checks if two variables point to the same memory location (identity check).  \n",
        "\n",
        "## 8. What are logical operators in Python?  \n",
        "Logical operators are used to perform logical operations:  \n",
        "- `and` (returns True if both conditions are true)  \n",
        "- `or` (returns True if at least one condition is true)  \n",
        "- `not` (reverses the logical state of a condition)  \n",
        "\n",
        "## 9. What is type casting in Python?  \n",
        "Type casting is converting one data type into another. It can be done explicitly (manual conversion) or implicitly (automatic conversion by Python).  \n",
        "\n",
        "## 10. What is the difference between implicit and explicit type casting?  \n",
        "- Implicit Type Casting: Python automatically converts smaller data types to larger ones (e.g., int to float).  \n",
        "- Explicit Type Casting: The programmer manually converts types using functions like `int()`, `float()`, `str()`, etc.  \n",
        "\n",
        "## 11. What is the purpose of conditional statements in Python?  \n",
        "Conditional statements control the flow of execution based on conditions. They allow decision-making using `if`, `elif`, and `else`.  \n",
        "\n",
        "## 12. How does the `elif` statement work?  \n",
        "The `elif` statement (short for \"else if\") allows multiple conditions to be checked sequentially. If one condition is true, the remaining conditions are skipped.  \n",
        "\n",
        "## 13. What is the difference between for and while loops?  \n",
        "- `for` loop is used when the number of iterations is known. It iterates over a sequence like a list or range.  \n",
        "- `while` loop runs until a specified condition is false, making it useful when the number of iterations is unknown.  \n",
        "\n",
        "## 14. Describe a scenario where a while loop is more suitable than a for loop.  \n",
        "A `while` loop is useful when waiting for user input or sensor data, where the number of iterations is unknown. For example, reading user input until they enter \"exit\".  \n"
      ],
      "metadata": {
        "id": "91F6-eSH8Tz8"
      }
    },
    {
      "cell_type": "code",
      "source": [
        "# 1. Write a Python program to print \"Hello, World!\"\n",
        "print(\"Hello, World!\")"
      ],
      "metadata": {
        "colab": {
          "base_uri": "https://localhost:8080/"
        },
        "id": "A6pLVMV19Xr4",
        "outputId": "25c57e7c-6071-46cb-fef3-c2547ed9679e"
      },
      "execution_count": 4,
      "outputs": [
        {
          "output_type": "stream",
          "name": "stdout",
          "text": [
            "Hello, World!\n"
          ]
        }
      ]
    },
    {
      "cell_type": "markdown",
      "source": [],
      "metadata": {
        "id": "4HRk9TY07DDq"
      }
    },
    {
      "cell_type": "code",
      "source": [
        "# 2. Write a Python program that displays your name and age\n",
        "name = \"Vinod Talawar\"\n",
        "age = 25\n",
        "print(\"Name:\", name)\n",
        "print(\"Age:\", age)"
      ],
      "metadata": {
        "colab": {
          "base_uri": "https://localhost:8080/"
        },
        "id": "Nkv6VqjbBwD9",
        "outputId": "4c97d055-7c93-4d45-c495-7d1b78ce4479"
      },
      "execution_count": 6,
      "outputs": [
        {
          "output_type": "stream",
          "name": "stdout",
          "text": [
            "Name: Vinod Talawar\n",
            "Age: 25\n"
          ]
        }
      ]
    },
    {
      "cell_type": "code",
      "source": [
        "# 3. Write code to print all the pre-defined keywords in Python using the keyword library\n",
        "import keyword\n",
        "print(keyword.kwlist)"
      ],
      "metadata": {
        "colab": {
          "base_uri": "https://localhost:8080/"
        },
        "id": "nHLrqoNoDEwa",
        "outputId": "f8eb6f41-e5fa-4195-af15-c55e8cff1c47"
      },
      "execution_count": 8,
      "outputs": [
        {
          "output_type": "stream",
          "name": "stdout",
          "text": [
            "['False', 'None', 'True', 'and', 'as', 'assert', 'async', 'await', 'break', 'class', 'continue', 'def', 'del', 'elif', 'else', 'except', 'finally', 'for', 'from', 'global', 'if', 'import', 'in', 'is', 'lambda', 'nonlocal', 'not', 'or', 'pass', 'raise', 'return', 'try', 'while', 'with', 'yield']\n"
          ]
        }
      ]
    },
    {
      "cell_type": "code",
      "source": [
        "# 4. Write a program that checks if a given word is a Python keyword.\n",
        "word = \"for\"\n",
        "print(f\"Is '{word}' a keyword?:\", keyword.iskeyword(word))"
      ],
      "metadata": {
        "colab": {
          "base_uri": "https://localhost:8080/"
        },
        "id": "1APL51BtDH3C",
        "outputId": "2dcf7986-98d7-469a-f2dd-d0324c1e441c"
      },
      "execution_count": 10,
      "outputs": [
        {
          "output_type": "stream",
          "name": "stdout",
          "text": [
            "Is 'for' a keyword?: True\n"
          ]
        }
      ]
    },
    {
      "cell_type": "code",
      "source": [
        "# 5. Write a function to demonstrate the behavior of mutable and immutable arguments.\n",
        "def mutable_immutable_demo(a, b):\n",
        "    a += 1  # Integer is immutable\n",
        "    b.append(4)  # List is mutable\n",
        "\n",
        "x = 10\n",
        "y = [1, 2, 3]\n",
        "mutable_immutable_demo(x, y)\n",
        "print(\"Immutable Integer:\", x)  # No change\n",
        "print(\"Mutable List:\", y)  # Modified list"
      ],
      "metadata": {
        "colab": {
          "base_uri": "https://localhost:8080/"
        },
        "id": "X9bO9je2DRrX",
        "outputId": "494c2925-4124-43a8-b915-29564b00b329"
      },
      "execution_count": 16,
      "outputs": [
        {
          "output_type": "stream",
          "name": "stdout",
          "text": [
            "Immutable Integer: 10\n",
            "Mutable List: [1, 2, 3, 4]\n"
          ]
        }
      ]
    },
    {
      "cell_type": "code",
      "source": [
        "# 6. Write a program that performs basic arithmetic operations on two user-input numbers.\n",
        "a = int(input(\"Enter first number: \"))\n",
        "b = int(input(\"Enter second number: \"))\n",
        "print(\"Sum:\", a + b)\n",
        "print(\"Difference:\", a - b)\n",
        "print(\"Product:\", a * b)\n",
        "print(\"Quotient:\", a / b if b != 0 else \"Undefined\")"
      ],
      "metadata": {
        "colab": {
          "base_uri": "https://localhost:8080/"
        },
        "id": "QI4YZX71DwDr",
        "outputId": "1b8ab5bf-6d28-4cb0-c88d-0417305970c3"
      },
      "execution_count": 18,
      "outputs": [
        {
          "output_type": "stream",
          "name": "stdout",
          "text": [
            "Enter first number: 3\n",
            "Enter second number: 5\n",
            "Sum: 8\n",
            "Difference: -2\n",
            "Product: 15\n",
            "Quotient: 0.6\n"
          ]
        }
      ]
    },
    {
      "cell_type": "code",
      "source": [
        "# 7. Write a program to demonstrate the use of logical operators.\n",
        "x = 5\n",
        "y = 10\n",
        "print(x > 0 and y > 0)  # Logical AND\n",
        "print(x < 0 or y > 0)   # Logical OR\n",
        "print(not (x > y))      # Logical NOT"
      ],
      "metadata": {
        "colab": {
          "base_uri": "https://localhost:8080/"
        },
        "id": "ppCEwkHLD7Zb",
        "outputId": "2ecdb22d-6089-4dcf-8e85-ac7e187df9dd"
      },
      "execution_count": 21,
      "outputs": [
        {
          "output_type": "stream",
          "name": "stdout",
          "text": [
            "True\n",
            "True\n",
            "True\n"
          ]
        }
      ]
    },
    {
      "cell_type": "code",
      "source": [
        "# 8. Create a list and tuple in Python, and demonstrate how attempting to change an element works differently for each.\n",
        "my_list = [1, 2, 3]\n",
        "my_tuple = (1, 2, 3)\n",
        "my_list[0] = 10  # Allowed\n",
        "print(\"Modified List:\", my_list)\n",
        "\n",
        "# my_tuple[0] = 10  # Uncommenting this will cause an error since tuples are immutable."
      ],
      "metadata": {
        "colab": {
          "base_uri": "https://localhost:8080/"
        },
        "id": "R-ULtrGXECy3",
        "outputId": "6c9ac642-900e-4e6a-ade0-329f2198b9bd"
      },
      "execution_count": 24,
      "outputs": [
        {
          "output_type": "stream",
          "name": "stdout",
          "text": [
            "Modified List: [10, 2, 3]\n"
          ]
        }
      ]
    },
    {
      "cell_type": "code",
      "source": [
        "# 9. Write a Python program to convert user input from string to integer, float, and boolean types.\n",
        "user_input = input(\"Enter a number: \")\n",
        "print(\"As Integer:\", int(user_input))\n",
        "print(\"As Float:\", float(user_input))\n",
        "print(\"As Boolean:\", bool(user_input))"
      ],
      "metadata": {
        "colab": {
          "base_uri": "https://localhost:8080/"
        },
        "id": "CRKahXqnEQJA",
        "outputId": "56cd94a5-53b6-4433-dd7f-dec0f69d01ca"
      },
      "execution_count": 26,
      "outputs": [
        {
          "output_type": "stream",
          "name": "stdout",
          "text": [
            "Enter a number: 2\n",
            "As Integer: 2\n",
            "As Float: 2.0\n",
            "As Boolean: True\n"
          ]
        }
      ]
    },
    {
      "cell_type": "code",
      "source": [
        "# 10. Write code to demonstrate type casting with list elements.\n",
        "str_list = [\"1\", \"2\", \"3\"]\n",
        "int_list = [int(i) for i in str_list]\n",
        "print(\"Converted List:\", int_list)"
      ],
      "metadata": {
        "colab": {
          "base_uri": "https://localhost:8080/"
        },
        "id": "OpLVDfUMEWiR",
        "outputId": "70ffb5be-dfa5-4631-d0cd-218ee1256602"
      },
      "execution_count": 28,
      "outputs": [
        {
          "output_type": "stream",
          "name": "stdout",
          "text": [
            "Converted List: [1, 2, 3]\n"
          ]
        }
      ]
    },
    {
      "cell_type": "code",
      "source": [
        "# 11. Write a program that checks if a number is positive, negative, or zero.\n",
        "num = int(input(\"Enter a number: \"))\n",
        "if num > 0:\n",
        "    print(\"Positive Number\")\n",
        "elif num < 0:\n",
        "    print(\"Negative Number\")\n",
        "else:\n",
        "    print(\"Zero\")"
      ],
      "metadata": {
        "colab": {
          "base_uri": "https://localhost:8080/"
        },
        "id": "y9r91XJ-EdYW",
        "outputId": "ea1e7d77-118d-4538-9303-a96eae25cb31"
      },
      "execution_count": 30,
      "outputs": [
        {
          "output_type": "stream",
          "name": "stdout",
          "text": [
            "Enter a number: 1\n",
            "Positive Number\n"
          ]
        }
      ]
    },
    {
      "cell_type": "code",
      "source": [
        "# 12. Write a for loop to print numbers from 1 to 10.\n",
        "for i in range(1, 11):\n",
        "    print(i)"
      ],
      "metadata": {
        "colab": {
          "base_uri": "https://localhost:8080/"
        },
        "id": "E-RClb9qEi56",
        "outputId": "3b899db7-5ba1-4baf-cbf6-4bbaf7d462b3"
      },
      "execution_count": 32,
      "outputs": [
        {
          "output_type": "stream",
          "name": "stdout",
          "text": [
            "1\n",
            "2\n",
            "3\n",
            "4\n",
            "5\n",
            "6\n",
            "7\n",
            "8\n",
            "9\n",
            "10\n"
          ]
        }
      ]
    },
    {
      "cell_type": "code",
      "source": [
        "# 13. Write a Python program to find the sum of all even numbers between 1 and 50.\n",
        "print(\"Sum of even numbers:\", sum(i for i in range(1, 51) if i % 2 == 0))"
      ],
      "metadata": {
        "colab": {
          "base_uri": "https://localhost:8080/"
        },
        "id": "4xEDVU_qEyk3",
        "outputId": "d9b56897-955c-48c9-d111-93fb6ad0181e"
      },
      "execution_count": 33,
      "outputs": [
        {
          "output_type": "stream",
          "name": "stdout",
          "text": [
            "Sum of even numbers: 650\n"
          ]
        }
      ]
    },
    {
      "cell_type": "code",
      "source": [
        "# 14. Write a program to reverse a string using a while loop.\n",
        "s = \"Python\"\n",
        "reversed_s = \"\"\n",
        "i = len(s) - 1\n",
        "while i >= 0:\n",
        "    reversed_s += s[i]\n",
        "    i -= 1\n",
        "print(\"Reversed String:\", reversed_s)"
      ],
      "metadata": {
        "colab": {
          "base_uri": "https://localhost:8080/"
        },
        "id": "2hEac3DYE3U5",
        "outputId": "3bb1c709-c3c1-43ce-cd59-2e90a57fc1b9"
      },
      "execution_count": 34,
      "outputs": [
        {
          "output_type": "stream",
          "name": "stdout",
          "text": [
            "Reversed String: nohtyP\n"
          ]
        }
      ]
    },
    {
      "cell_type": "code",
      "source": [
        "# 15. Write a Python program to calculate the factorial of a number provided by the user using a while loop.\n",
        "num = int(input(\"Enter a number for factorial: \"))\n",
        "fact = 1\n",
        "while num > 0:\n",
        "    fact *= num\n",
        "    num -= 1\n",
        "print(\"Factorial:\", fact)"
      ],
      "metadata": {
        "colab": {
          "base_uri": "https://localhost:8080/"
        },
        "id": "ljuiwpypFBj4",
        "outputId": "c63e3cb2-569e-4a25-c315-ff28a015fe73"
      },
      "execution_count": 35,
      "outputs": [
        {
          "output_type": "stream",
          "name": "stdout",
          "text": [
            "Enter a number for factorial: 4\n",
            "Factorial: 24\n"
          ]
        }
      ]
    }
  ]
}