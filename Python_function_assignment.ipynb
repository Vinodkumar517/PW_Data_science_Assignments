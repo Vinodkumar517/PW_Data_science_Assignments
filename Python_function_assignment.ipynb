{
  "nbformat": 4,
  "nbformat_minor": 0,
  "metadata": {
    "colab": {
      "provenance": []
    },
    "kernelspec": {
      "name": "python3",
      "display_name": "Python 3"
    },
    "language_info": {
      "name": "python"
    }
  },
  "cells": [
    {
      "cell_type": "markdown",
      "source": [
        "# Python Functions and Iterators Assignment\n",
        "\n",
        "## Theory Questions\n",
        "\n",
        "### 1. What is the difference between a function and a method in Python?\n",
        "A function is a block of reusable code that is defined using the `def` keyword. A method is a function that belongs to an object and is called on that object.\n",
        "\n",
        "```python\n",
        "def my_function():\n",
        "    return \"This is a function\"\n",
        "\n",
        "class MyClass:\n",
        "    def my_method(self):\n",
        "        return \"This is a method\"\n",
        "\n",
        "obj = MyClass()\n",
        "print(my_function())  # Calling a function\n",
        "print(obj.my_method())  # Calling a method\n",
        "```\n",
        "\n",
        "### 2. Explain the concept of function arguments and parameters in Python.\n",
        "Parameters are variables listed in a function definition. Arguments are values passed to a function.\n",
        "\n",
        "```python\n",
        "def add(a, b):  # 'a' and 'b' are parameters\n",
        "    return a + b\n",
        "\n",
        "print(add(3, 4))  # '3' and '4' are arguments\n",
        "```\n",
        "\n",
        "### 3. What are the different ways to define and call a function in Python?\n",
        "- Normal function\n",
        "- Default parameters\n",
        "- *args for variable arguments\n",
        "- **kwargs for keyword arguments\n",
        "\n",
        "```python\n",
        "def greet(name, message=\"Hello\"):\n",
        "    return f\"{message}, {name}!\"\n",
        "\n",
        "print(greet(\"Alice\"))\n",
        "print(greet(\"Bob\", \"Good morning\"))\n",
        "```\n",
        "\n",
        "### 4. What is the purpose of the `return` statement in a Python function?\n",
        "The `return` statement exits a function and returns a value.\n",
        "\n",
        "```python\n",
        "def square(n):\n",
        "    return n * n\n",
        "\n",
        "print(square(5))\n",
        "```\n",
        "\n",
        "### 5. What are iterators in Python and how do they differ from iterables?\n",
        "An iterable is an object that can return an iterator. An iterator is an object with `__iter__()` and `__next__()` methods.\n",
        "\n",
        "```python\n",
        "numbers = [1, 2, 3]\n",
        "iterator = iter(numbers)\n",
        "print(next(iterator))\n",
        "print(next(iterator))\n",
        "```\n",
        "\n",
        "### 6. Explain the concept of generators in Python and how they are defined.\n",
        "Generators are functions that yield values lazily using the `yield` keyword.\n",
        "\n",
        "```python\n",
        "def my_generator():\n",
        "    yield 1\n",
        "    yield 2\n",
        "    yield 3\n",
        "\n",
        "gen = my_generator()\n",
        "print(next(gen))\n",
        "print(next(gen))\n",
        "```\n",
        "\n",
        "### 7. What are the advantages of using generators over regular functions?\n",
        "- Memory efficient\n",
        "- Faster execution\n",
        "- Used for streaming large datasets\n",
        "\n",
        "### 8. What is a lambda function in Python and when is it typically used?\n",
        "A lambda function is an anonymous function.\n",
        "\n",
        "```python\n",
        "square = lambda x: x * x\n",
        "print(square(6))\n",
        "```\n",
        "\n",
        "### 9. Explain the purpose and usage of the `map()` function in Python.\n",
        "`map()` applies a function to all elements in an iterable.\n",
        "\n",
        "```python\n",
        "numbers = [1, 2, 3, 4]\n",
        "squared = list(map(lambda x: x*x, numbers))\n",
        "print(squared)\n",
        "```\n",
        "\n",
        "### 10. What is the difference between `map()`, `reduce()`, and `filter()` functions in Python?\n",
        "- `map()`: Applies a function to each element\n",
        "- `filter()`: Filters elements based on a condition\n",
        "- `reduce()`: Reduces a sequence to a single value\n",
        "\n",
        "```python\n",
        "from functools import reduce\n",
        "numbers = [1, 2, 3, 4]\n",
        "product = reduce(lambda x, y: x * y, numbers)\n",
        "print(product)\n",
        "```\n",
        "\n",
        "### 11. Using pen & paper write the internal mechanism for sum operation using `reduce()` on [47,11,42,13].\n",
        "\n",
        "```python\n",
        "from functools import reduce\n",
        "numbers = [47, 11, 42, 13]\n",
        "sum_result = reduce(lambda x, y: x + y, numbers)\n",
        "print(sum_result)\n",
        "```\n",
        "## Practical Questions\n",
        "\n"
      ],
      "metadata": {
        "id": "UrhiAtrE6Jhs"
      }
    },
    {
      "cell_type": "code",
      "source": [
        "### 1. Write a Python function that takes a list of numbers as input and returns the sum of all even numbers.\n",
        "\n",
        "def sum_even(numbers):\n",
        "    return sum(x for x in numbers if x % 2 == 0)\n",
        "\n",
        "print(sum_even([1, 2, 3, 4, 5, 6]))"
      ],
      "metadata": {
        "colab": {
          "base_uri": "https://localhost:8080/"
        },
        "id": "iCYCy1BN7LKn",
        "outputId": "562cc076-f3e2-4f5f-d6d7-5baea37220b4"
      },
      "execution_count": 3,
      "outputs": [
        {
          "output_type": "stream",
          "name": "stdout",
          "text": [
            "12\n"
          ]
        }
      ]
    },
    {
      "cell_type": "code",
      "source": [
        "### 2. Create a Python function that accepts a string and returns the reverse.\n",
        "\n",
        "def reverse_string(s):\n",
        "    return s[::-1]\n",
        "\n",
        "print(reverse_string(\"hello\"))"
      ],
      "metadata": {
        "colab": {
          "base_uri": "https://localhost:8080/"
        },
        "id": "BkYEANxD7es9",
        "outputId": "b22a589a-e7c3-47e0-c6e8-b9a4c7bde996"
      },
      "execution_count": 5,
      "outputs": [
        {
          "output_type": "stream",
          "name": "stdout",
          "text": [
            "olleh\n"
          ]
        }
      ]
    },
    {
      "cell_type": "code",
      "source": [
        "### 3. Implement a function that returns squares of a list of integers.\n",
        "\n",
        "def square_list(numbers):\n",
        "    return [x*x for x in numbers]\n",
        "\n",
        "print(square_list([1, 2, 3, 4]))"
      ],
      "metadata": {
        "colab": {
          "base_uri": "https://localhost:8080/"
        },
        "id": "OhMjYzBl7qE3",
        "outputId": "eca6b958-27e7-44fa-a5ab-e64df66ffedc"
      },
      "execution_count": 8,
      "outputs": [
        {
          "output_type": "stream",
          "name": "stdout",
          "text": [
            "[1, 4, 9, 16]\n"
          ]
        }
      ]
    },
    {
      "cell_type": "code",
      "source": [
        "### 4. Write a function to check if numbers from 1 to 200 are prime.\n",
        "\n",
        "def is_prime(n):\n",
        "    if n < 2:\n",
        "        return False\n",
        "    for i in range(2, int(n**0.5) + 1):\n",
        "        if n % i == 0:\n",
        "            return False\n",
        "    return True\n",
        "\n",
        "primes = [n for n in range(1, 201) if is_prime(n)]\n",
        "print(primes)"
      ],
      "metadata": {
        "colab": {
          "base_uri": "https://localhost:8080/"
        },
        "id": "zVrYEfwf7wLJ",
        "outputId": "4795e7dc-c8c4-4107-a89c-a56be748bdb5"
      },
      "execution_count": 10,
      "outputs": [
        {
          "output_type": "stream",
          "name": "stdout",
          "text": [
            "[2, 3, 5, 7, 11, 13, 17, 19, 23, 29, 31, 37, 41, 43, 47, 53, 59, 61, 67, 71, 73, 79, 83, 89, 97, 101, 103, 107, 109, 113, 127, 131, 137, 139, 149, 151, 157, 163, 167, 173, 179, 181, 191, 193, 197, 199]\n"
          ]
        }
      ]
    },
    {
      "cell_type": "code",
      "source": [
        "### 5. Create an iterator class for Fibonacci sequence.\n",
        "\n",
        "class Fibonacci:\n",
        "    def __init__(self, terms):\n",
        "        self.terms = terms\n",
        "        self.a, self.b = 0, 1\n",
        "\n",
        "    def __iter__(self):\n",
        "        return self\n",
        "\n",
        "    def __next__(self):\n",
        "        if self.terms <= 0:\n",
        "            raise StopIteration\n",
        "        self.terms -= 1\n",
        "        self.a, self.b = self.b, self.a + self.b\n",
        "        return self.a\n",
        "\n",
        "fib = Fibonacci(10)\n",
        "print(list(fib))"
      ],
      "metadata": {
        "colab": {
          "base_uri": "https://localhost:8080/"
        },
        "id": "mttZvEsY72ux",
        "outputId": "e8a7be8f-ba93-4098-e751-b8a0b2872495"
      },
      "execution_count": 12,
      "outputs": [
        {
          "output_type": "stream",
          "name": "stdout",
          "text": [
            "[1, 1, 2, 3, 5, 8, 13, 21, 34, 55]\n"
          ]
        }
      ]
    },
    {
      "cell_type": "code",
      "source": [
        "# 6. Generator for powers of 2\n",
        "\n",
        "def powers_of_two(exp):\n",
        "    for i in range(exp + 1):\n",
        "        yield 2 ** i\n",
        "\n",
        "print(list(powers_of_two(5)))"
      ],
      "metadata": {
        "colab": {
          "base_uri": "https://localhost:8080/"
        },
        "id": "_cn6euf68W5k",
        "outputId": "579cd10c-3bbe-41ca-c4c5-f6b2177ff648"
      },
      "execution_count": 15,
      "outputs": [
        {
          "output_type": "stream",
          "name": "stdout",
          "text": [
            "[1, 2, 4, 8, 16, 32]\n"
          ]
        }
      ]
    },
    {
      "cell_type": "code",
      "source": [
        "# 7. File reader generator\n",
        "\n",
        "def file_reader(file_path):\n",
        "    with open(file_path, \"r\") as file:\n",
        "        for line in file:\n",
        "            yield line.strip()\n",
        "\n",
        "file_reader(r\"C:\\Users\\Vinod Kumar\\Desktop\\Hey! This is Vinod, I have complete.txt\")\n"
      ],
      "metadata": {
        "colab": {
          "base_uri": "https://localhost:8080/"
        },
        "id": "BpF9N37T8aFV",
        "outputId": "43280a7c-0fef-4d19-82a8-5098d8a8bb33"
      },
      "execution_count": 35,
      "outputs": [
        {
          "output_type": "execute_result",
          "data": {
            "text/plain": [
              "<generator object file_reader at 0x7da1674d93f0>"
            ]
          },
          "metadata": {},
          "execution_count": 35
        }
      ]
    },
    {
      "cell_type": "code",
      "source": [
        "# 8. Sort tuples based on second element\n",
        "\n",
        "tuples = [(1, 3), (2, 1), (3, 2)]\n",
        "print(sorted(tuples, key=lambda x: x[1]))"
      ],
      "metadata": {
        "colab": {
          "base_uri": "https://localhost:8080/"
        },
        "id": "rOe-Q0-h8oJD",
        "outputId": "470953bd-c4e2-4a57-84ba-7a4db0798652"
      },
      "execution_count": 19,
      "outputs": [
        {
          "output_type": "stream",
          "name": "stdout",
          "text": [
            "[(2, 1), (3, 2), (1, 3)]\n"
          ]
        }
      ]
    },
    {
      "cell_type": "code",
      "source": [
        "### 1. Convert temperatures using `map()`\n",
        "\n",
        "def celsius_to_fahrenheit(celsius_list):\n",
        "    return list(map(lambda c: (c * 9/5) + 32, celsius_list))\n",
        "\n",
        "print(celsius_to_fahrenheit([6]))"
      ],
      "metadata": {
        "colab": {
          "base_uri": "https://localhost:8080/"
        },
        "id": "cxQHllaP8rxd",
        "outputId": "ca1fcbb6-3832-4af2-f050-5c7ca0724831"
      },
      "execution_count": 32,
      "outputs": [
        {
          "output_type": "stream",
          "name": "stdout",
          "text": [
            "[42.8]\n"
          ]
        }
      ]
    },
    {
      "cell_type": "code",
      "source": [
        "# 10. Remove vowels using `filter()`\n",
        "\n",
        "def remove_vowels(s):\n",
        "    return \"\".join(filter(lambda x: x.lower() not in \"aeiou\", s))\n",
        "\n",
        "print(remove_vowels(\"hello world\"))"
      ],
      "metadata": {
        "colab": {
          "base_uri": "https://localhost:8080/"
        },
        "id": "1GaLQmYo9bcH",
        "outputId": "805d5bd0-63a0-4f7a-c216-f2d2321c9257"
      },
      "execution_count": 26,
      "outputs": [
        {
          "output_type": "stream",
          "name": "stdout",
          "text": [
            "hll wrld\n"
          ]
        }
      ]
    },
    {
      "cell_type": "code",
      "source": [
        "# 11. Accounting routine\n",
        "orders = [[34587, 4, 40.95], [98762, 5, 56.80], [77226, 3, 32.90], [88112, 3, 24.50]]\n",
        "result = list(map(lambda x: (x[0], x[1] * x[2] + (10 if x[1] * x[2] < 100 else 0)), orders))\n",
        "print(result)"
      ],
      "metadata": {
        "colab": {
          "base_uri": "https://localhost:8080/"
        },
        "id": "E2yoxv3x9hel",
        "outputId": "cfafc35e-a307-4d47-de04-6d25ea66ca94"
      },
      "execution_count": 27,
      "outputs": [
        {
          "output_type": "stream",
          "name": "stdout",
          "text": [
            "[(34587, 163.8), (98762, 284.0), (77226, 108.69999999999999), (88112, 83.5)]\n"
          ]
        }
      ]
    }
  ]
}